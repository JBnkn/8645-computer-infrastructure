{
 "cells": [
  {
   "cell_type": "markdown",
   "metadata": {},
   "source": [
    "# Computer Infrastructure - 2024\n",
    "\n",
    "This notebook will provide a summary of how I completed the tasks for the [Computer Infrastructure](https://www.gmit.ie/computer-infrastructure) module as part of the [Higher Diploma in Science in Data Analytics](https://www.gmit.ie/higher-diploma-in-science-in-computing-in-data-analytics) at ATU.\n",
    "\n",
    "**Task 1 - Create Directory Structure**\n",
    "*Using the command line, create a directory named **data** at the root of your respository. Inside **data**, create two subdirectories: **timestamps** and **weather**.\n",
    "\n",
    "For this task, I opened a Codespace in GitHub and used the **mkdir** command to create a folder named **data** (**mkdir data**). I then used **ls** to confirm that the folder had been created.\n",
    "\n",
    "I then navigated into the **data** folder using **cd data/**, where I created two further directories called **timestamps** and **weather**, again using the **mkdir** command.\n",
    "\n",
    "I navigated back to my root folder using **cd ..** (as **..** is used to indicate the parent folder of the current directory).\n",
    "\n",
    "**Take 2 - Timestamps**"
   ]
  }
 ],
 "metadata": {
  "language_info": {
   "name": "python"
  }
 },
 "nbformat": 4,
 "nbformat_minor": 2
}
