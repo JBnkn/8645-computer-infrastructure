# Computer Infrastructure - 2024

This notebook will provide a summary of how I completed the tasks for the [Computer Infrastructure](https://www.gmit.ie/computer-infrastructure) module as part of the [Higher Diploma in Science in Data Analytics](https://www.gmit.ie/higher-diploma-in-science-in-computing-in-data-analytics) at ATU.

**Task 1 - Create Directory Structure**
*Using the command line, create a directory named **data** at the root of your respository. Inside **data**, create two subdirectories: **timestamps** and **weather**.

For this task, I opened a Codespace in GitHub and used the **mkdir** command to create a folder named **data** (**mkdir data**). I then used **ls** to confirm that the folder had been created.

I then navigated into the **data** folder using **cd data/**, where I created two further directories called **timestamps** and **weather**, again using the **mkdir** command.

I navigated back to my root folder using **cd ..** (as **..** is used to indicate the parent folder of the current directory).

**Take 2 - Timestamps**
