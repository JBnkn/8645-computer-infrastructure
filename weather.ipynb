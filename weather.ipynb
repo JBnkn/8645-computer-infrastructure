{
 "cells": [
  {
   "cell_type": "markdown",
   "metadata": {},
   "source": [
    "# Computer Infrastructure - 2024\n",
    "\n",
    "<img src=\"https://upload.wikimedia.org/wikipedia/commons/7/7b/Athenry_Castle.jpg\" alt=\"Athenry Castle\" width=\"800\"/>\n",
    "<p class=\"attribution\">\"Athenry Castle\" by <a href=\"https://commons.wikimedia.org/wiki/User:Imehling\">Ingo Mehling</a> is licensed under <a rel=\"noopener noreferrer\" href=\"https://creativecommons.org/licenses/by-sa/3.0/?ref=openverse\">CC BY-SA 3.0 <img src=\"https://mirrors.creativecommons.org/presskit/icons/cc.svg\" style=\"height: 1em; margin-right: 0.125em; display: inline;\" /><img src=\"https://mirrors.creativecommons.org/presskit/icons/by.svg\" style=\"height: 1em; margin-right: 0.125em; display: inline;\" /><img src=\"https://mirrors.creativecommons.org/presskit/icons/sa.svg\" style=\"height: 1em; margin-right: 0.125em; display: inline;\" /></a>.</p>\n",
    "\n",
    "This notebook will provide a summary of how I completed the tasks for the [Computer Infrastructure](https://www.gmit.ie/computer-infrastructure) module as part of the [Higher Diploma in Science in Data Analytics](https://www.gmit.ie/higher-diploma-in-science-in-computing-in-data-analytics) at ATU."
   ]
  },
  {
   "cell_type": "markdown",
   "metadata": {},
   "source": [
    "### Task 1 - Create Directory Structure\n",
    "Using the command line, create a directory named **data** at the root of your respository. Inside **data**, create two subdirectories: **timestamps** and **weather**.\n",
    "\n",
    "For this task, I opened a Codespace in GitHub and used the **mkdir** command to create a folder named **data** (**mkdir data**). I then used **ls** to confirm that the folder had been created.\n",
    "\n",
    "I then navigated into the **data** folder using **cd data/**, where I created two further directories called **timestamps** and **weather**, again using the **mkdir** command.\n",
    "\n",
    "I navigated back to my root folder using **cd ..** (as **..** is used to indicate the parent folder of the current directory)."
   ]
  },
  {
   "cell_type": "markdown",
   "metadata": {},
   "source": [
    "### Task 2 - Timestamps\n",
    "Navigate to the"
   ]
  }
 ],
 "metadata": {
  "language_info": {
   "name": "python"
  }
 },
 "nbformat": 4,
 "nbformat_minor": 2
}
