{
 "cells": [
  {
   "cell_type": "markdown",
   "metadata": {},
   "source": [
    "# Computer Infrastructure - 2024\n",
    "\n",
    "<img src=\"https://upload.wikimedia.org/wikipedia/commons/7/7b/Athenry_Castle.jpg\" alt=\"Athenry Castle\" width=\"800\"/>\n",
    "<p class=\"attribution\">\"Athenry Castle\" by <a href=\"https://commons.wikimedia.org/wiki/User:Imehling\">Ingo Mehling</a> is licensed under <a rel=\"noopener noreferrer\" href=\"https://creativecommons.org/licenses/by-sa/3.0/?ref=openverse\">CC BY-SA 3.0 <img src=\"https://mirrors.creativecommons.org/presskit/icons/cc.svg\" style=\"height: 1em; margin-right: 0.125em; display: inline;\" /><img src=\"https://mirrors.creativecommons.org/presskit/icons/by.svg\" style=\"height: 1em; margin-right: 0.125em; display: inline;\" /><img src=\"https://mirrors.creativecommons.org/presskit/icons/sa.svg\" style=\"height: 1em; margin-right: 0.125em; display: inline;\" /></a>.</p>\n",
    "\n",
    "This notebook will provide a summary of how I completed the tasks for the [Computer Infrastructure](https://www.gmit.ie/computer-infrastructure) module as part of the [Higher Diploma in Science in Data Analytics](https://www.gmit.ie/higher-diploma-in-science-in-computing-in-data-analytics) at ATU."
   ]
  },
  {
   "cell_type": "markdown",
   "metadata": {},
   "source": [
    "### Task 1 - Create Directory Structure\n",
    "> *Using the command line, create a directory named <code>data</code> at the root of your respository. Inside <code>data</code>, create two subdirectories: <code>timestamps</code> and <code>weather</code>.*\n",
    "\n",
    "For this task, I opened a Codespace through my GitHub repository. Once the codespace was live, I used <code>mkdir</code>  to create a folder named <code>data</code>. I then used <code>ls</code> to confirm that the folder had been created.\n",
    "\n",
    "I used <code>cd data</code> to navigate into the <code>data</code> folder, where again I used <code>mkdir</code> to create two further directories called <code>timestamps</code> and <code>weather</code>.\n",
    "\n",
    "I navigated back to my root folder using <code>cd ..</code> (as <code>..</code> is used to indicate the parent folder of the current directory)."
   ]
  },
  {
   "cell_type": "markdown",
   "metadata": {},
   "source": [
    "### Task 2 - Timestamps\n",
    "> *Navigate to the <code>data/timestamps</code> directory. Use the <code>date</code> command to output the current date and time, appending the output to a file named <code>now.txt</code>. Make sure to use the <code>>></code> operator to append (not overwrite) the file. Repeat this step ten times, then use the <code>more</code> command to verify that <code>now.txt</code> has the expected content.*"
   ]
  },
  {
   "cell_type": "markdown",
   "metadata": {},
   "source": [
    "### Task 3 - Formatting Timestamps\n",
    "> Run the <code>date</code> command again, but this time format the output using <code>YYYYmmdd_HHMMSS</code> (e.g., <code>20261114_130003</code> for 1:00:03 PM on November 14, 2026). Refer to the <code>date</code> man page (using <code>man date</code>) for more formatting options. (Press <code>q</code> to exit the man page). Append the formatted output to a file named <code>formatted.txt</code>."
   ]
  },
  {
   "cell_type": "markdown",
   "metadata": {},
   "source": [
    "### Task 4 - Create Timestamped Files\n",
    "> Use the <code>touch</code> command to create an empty file with a name in the <code>YYYYmmdd_HHMMSS.txt</code> format. You can achieve this by embedding your <code>date</code> command in backticks <code>`</code> into the touch command. You should no longer use redirection (<code>>></code>) in this step."
   ]
  },
  {
   "cell_type": "markdown",
   "metadata": {},
   "source": [
    "### Task 5 - Download Today's Weather Data\n",
    "> Change to the <code>data/weather</code> directory. Download the latest weather data for the Athenry weather station from Met Eireann using <code>wget</code>. Use the <code>-O <filename></code> option to save the file as <code>weather.json</code>. The data can be found at this URL:\n",
    "<code>https://prodapi.metweb.ie/observations/athenry/today</code>."
   ]
  },
  {
   "cell_type": "markdown",
   "metadata": {},
   "source": [
    "### Task 6 - Timestamp the Data\n",
    "> Modify the command from Task 5 to save the downloaded file with a timestamped name in the format <code>YYYYmmdd_HHMMSS</code>.json."
   ]
  },
  {
   "cell_type": "markdown",
   "metadata": {},
   "source": [
    "### Task 7 - Write the Script\n",
    "> Write a bash script called <code>weather.sh</code> in the root of your repository. This script should automate the process from Task 6, saving the weather data to the <code>data/weather</code> directory. Make the script executable and test it by running it."
   ]
  },
  {
   "cell_type": "markdown",
   "metadata": {},
   "source": [
    "### Task 8 - Notebook\n",
    "> Create a notebook called <code>weather.ipynb</code> at the root of your repository. In this notebook, write a brief report explaining how you completed Tasks 1 to 7. Provide short descriptions of the commands used in each task and explain their role in completing the tasks."
   ]
  },
  {
   "cell_type": "markdown",
   "metadata": {},
   "source": [
    "### Task 9 - pandas\n",
    "> In your <code>weather.ipynb</code> notebook, use the <code>pandas</code> function <code>read_json()</code> to load in any one of the weather data files you have downloaded with your script. Examine and summarize the data. Use the information provided [data.gov.ie](https://data.gov.ie/) to write a short explanation of what the data set contains."
   ]
  },
  {
   "cell_type": "code",
   "execution_count": 1,
   "metadata": {},
   "outputs": [
    {
     "data": {
      "text/html": [
       "<div>\n",
       "<style scoped>\n",
       "    .dataframe tbody tr th:only-of-type {\n",
       "        vertical-align: middle;\n",
       "    }\n",
       "\n",
       "    .dataframe tbody tr th {\n",
       "        vertical-align: top;\n",
       "    }\n",
       "\n",
       "    .dataframe thead th {\n",
       "        text-align: right;\n",
       "    }\n",
       "</style>\n",
       "<table border=\"1\" class=\"dataframe\">\n",
       "  <thead>\n",
       "    <tr style=\"text-align: right;\">\n",
       "      <th></th>\n",
       "      <th>name</th>\n",
       "      <th>temperature</th>\n",
       "      <th>symbol</th>\n",
       "      <th>weatherDescription</th>\n",
       "      <th>text</th>\n",
       "      <th>windSpeed</th>\n",
       "      <th>windGust</th>\n",
       "      <th>cardinalWindDirection</th>\n",
       "      <th>windDirection</th>\n",
       "      <th>humidity</th>\n",
       "      <th>rainfall</th>\n",
       "      <th>pressure</th>\n",
       "      <th>dayName</th>\n",
       "      <th>date</th>\n",
       "      <th>reportTime</th>\n",
       "    </tr>\n",
       "  </thead>\n",
       "  <tbody>\n",
       "    <tr>\n",
       "      <th>0</th>\n",
       "      <td>Athenry</td>\n",
       "      <td>4</td>\n",
       "      <td>40n</td>\n",
       "      <td>Light rain showers</td>\n",
       "      <td>\"Recent Rain\"</td>\n",
       "      <td>17</td>\n",
       "      <td>-</td>\n",
       "      <td>NW</td>\n",
       "      <td>315</td>\n",
       "      <td>84</td>\n",
       "      <td>0.01</td>\n",
       "      <td>1008</td>\n",
       "      <td>Thursday</td>\n",
       "      <td>2024-12-19</td>\n",
       "      <td>00:00</td>\n",
       "    </tr>\n",
       "    <tr>\n",
       "      <th>1</th>\n",
       "      <td>Athenry</td>\n",
       "      <td>4</td>\n",
       "      <td>02n</td>\n",
       "      <td>Fair</td>\n",
       "      <td>\"Fair\"</td>\n",
       "      <td>15</td>\n",
       "      <td>-</td>\n",
       "      <td>NW</td>\n",
       "      <td>315</td>\n",
       "      <td>84</td>\n",
       "      <td>0.00</td>\n",
       "      <td>1009</td>\n",
       "      <td>Thursday</td>\n",
       "      <td>2024-12-19</td>\n",
       "      <td>01:00</td>\n",
       "    </tr>\n",
       "    <tr>\n",
       "      <th>2</th>\n",
       "      <td>Athenry</td>\n",
       "      <td>3</td>\n",
       "      <td>40n</td>\n",
       "      <td>Light rain showers</td>\n",
       "      <td>\"Precipitation\"</td>\n",
       "      <td>11</td>\n",
       "      <td>-</td>\n",
       "      <td>W</td>\n",
       "      <td>270</td>\n",
       "      <td>85</td>\n",
       "      <td>0.01</td>\n",
       "      <td>1009</td>\n",
       "      <td>Thursday</td>\n",
       "      <td>2024-12-19</td>\n",
       "      <td>02:00</td>\n",
       "    </tr>\n",
       "    <tr>\n",
       "      <th>3</th>\n",
       "      <td>Athenry</td>\n",
       "      <td>3</td>\n",
       "      <td>40n</td>\n",
       "      <td>Light rain showers</td>\n",
       "      <td>\"Recent Precipitation\"</td>\n",
       "      <td>9</td>\n",
       "      <td>-</td>\n",
       "      <td>NW</td>\n",
       "      <td>315</td>\n",
       "      <td>88</td>\n",
       "      <td>0.01</td>\n",
       "      <td>1010</td>\n",
       "      <td>Thursday</td>\n",
       "      <td>2024-12-19</td>\n",
       "      <td>03:00</td>\n",
       "    </tr>\n",
       "    <tr>\n",
       "      <th>4</th>\n",
       "      <td>Athenry</td>\n",
       "      <td>3</td>\n",
       "      <td>05n</td>\n",
       "      <td>Rain showers</td>\n",
       "      <td>\"Moderate Rain shower\"</td>\n",
       "      <td>15</td>\n",
       "      <td>41</td>\n",
       "      <td>NW</td>\n",
       "      <td>315</td>\n",
       "      <td>93</td>\n",
       "      <td>1.90</td>\n",
       "      <td>1011</td>\n",
       "      <td>Thursday</td>\n",
       "      <td>2024-12-19</td>\n",
       "      <td>04:00</td>\n",
       "    </tr>\n",
       "  </tbody>\n",
       "</table>\n",
       "</div>"
      ],
      "text/plain": [
       "      name  temperature symbol  weatherDescription                    text  \\\n",
       "0  Athenry            4    40n  Light rain showers           \"Recent Rain\"   \n",
       "1  Athenry            4    02n                Fair                  \"Fair\"   \n",
       "2  Athenry            3    40n  Light rain showers         \"Precipitation\"   \n",
       "3  Athenry            3    40n  Light rain showers  \"Recent Precipitation\"   \n",
       "4  Athenry            3    05n        Rain showers  \"Moderate Rain shower\"   \n",
       "\n",
       "   windSpeed windGust cardinalWindDirection  windDirection  humidity  \\\n",
       "0         17        -                    NW            315        84   \n",
       "1         15        -                    NW            315        84   \n",
       "2         11        -                     W            270        85   \n",
       "3          9        -                    NW            315        88   \n",
       "4         15       41                    NW            315        93   \n",
       "\n",
       "   rainfall  pressure   dayName       date reportTime  \n",
       "0      0.01      1008  Thursday 2024-12-19      00:00  \n",
       "1      0.00      1009  Thursday 2024-12-19      01:00  \n",
       "2      0.01      1009  Thursday 2024-12-19      02:00  \n",
       "3      0.01      1010  Thursday 2024-12-19      03:00  \n",
       "4      1.90      1011  Thursday 2024-12-19      04:00  "
      ]
     },
     "execution_count": 1,
     "metadata": {},
     "output_type": "execute_result"
    }
   ],
   "source": [
    "import pandas as pd\n",
    "\n",
    "df = pd.read_json('./data/weather/20241219_183843.json')\n",
    "\n",
    "df.head()\n"
   ]
  }
 ],
 "metadata": {
  "kernelspec": {
   "display_name": "base",
   "language": "python",
   "name": "python3"
  },
  "language_info": {
   "codemirror_mode": {
    "name": "ipython",
    "version": 3
   },
   "file_extension": ".py",
   "mimetype": "text/x-python",
   "name": "python",
   "nbconvert_exporter": "python",
   "pygments_lexer": "ipython3",
   "version": "3.11.7"
  }
 },
 "nbformat": 4,
 "nbformat_minor": 2
}
