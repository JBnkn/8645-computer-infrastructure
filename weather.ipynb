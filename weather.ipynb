{
 "cells": [
  {
   "cell_type": "markdown",
   "metadata": {},
   "source": [
    "# Computer Infrastructure - 2024\n",
    "\n",
    "<img src=\"https://upload.wikimedia.org/wikipedia/commons/7/7b/Athenry_Castle.jpg\" alt=\"Athenry Castle\" width=\"800\"/>\n",
    "<p class=\"attribution\">\"Athenry Castle\" by <a href=\"https://commons.wikimedia.org/wiki/User:Imehling\">Ingo Mehling</a> is licensed under <a rel=\"noopener noreferrer\" href=\"https://creativecommons.org/licenses/by-sa/3.0/?ref=openverse\">CC BY-SA 3.0 <img src=\"https://mirrors.creativecommons.org/presskit/icons/cc.svg\" style=\"height: 1em; margin-right: 0.125em; display: inline;\" /><img src=\"https://mirrors.creativecommons.org/presskit/icons/by.svg\" style=\"height: 1em; margin-right: 0.125em; display: inline;\" /><img src=\"https://mirrors.creativecommons.org/presskit/icons/sa.svg\" style=\"height: 1em; margin-right: 0.125em; display: inline;\" /></a>.</p>\n",
    "\n",
    "This notebook will provide a summary of how I completed the tasks for the [Computer Infrastructure](https://www.gmit.ie/computer-infrastructure) module as part of the [Higher Diploma in Science in Data Analytics](https://www.gmit.ie/higher-diploma-in-science-in-computing-in-data-analytics) at ATU."
   ]
  },
  {
   "cell_type": "markdown",
   "metadata": {},
   "source": [
    "### Task 1 - Create Directory Structure\n",
    "> *Using the command line, create a directory named <code>data</code> at the root of your respository. Inside <code>data</code>, create two subdirectories: <code>timestamps</code> and <code>weather</code>.*\n",
    "\n",
    "For this task, I opened a Codespace through my GitHub repository. Once the codespace was live, I used <code>mkdir</code>  to create a folder named <code>data</code>. I then used <code>ls</code> to confirm that the folder had been created.\n",
    "\n",
    "I used <code>cd data</code> to navigate into the <code>data</code> folder, where again I used <code>mkdir</code> to create two further directories called <code>timestamps</code> and <code>weather</code>.\n",
    "\n",
    "I navigated back to my root folder using <code>cd ..</code> (as <code>..</code> is used to indicate the parent folder of the current directory)."
   ]
  },
  {
   "cell_type": "markdown",
   "metadata": {},
   "source": [
    "### Task 2 - Timestamps\n",
    "Navigate to the"
   ]
  },
  {
   "cell_type": "markdown",
   "metadata": {},
   "source": [
    "### Task 3 - Formatting Timestamps"
   ]
  },
  {
   "cell_type": "markdown",
   "metadata": {},
   "source": [
    "### Task 4 - Create Timestamped Files"
   ]
  },
  {
   "cell_type": "markdown",
   "metadata": {},
   "source": [
    "### Task 5 - Download Today's Weather Data"
   ]
  },
  {
   "cell_type": "markdown",
   "metadata": {},
   "source": [
    "### Task 6 - Timestamp the Data"
   ]
  },
  {
   "cell_type": "markdown",
   "metadata": {},
   "source": [
    "### Task 7 - Write the Script"
   ]
  },
  {
   "cell_type": "markdown",
   "metadata": {},
   "source": [
    "### Task 8 - Notebook"
   ]
  },
  {
   "cell_type": "markdown",
   "metadata": {},
   "source": [
    "### Task 9 - pandas"
   ]
  }
 ],
 "metadata": {
  "language_info": {
   "name": "python"
  }
 },
 "nbformat": 4,
 "nbformat_minor": 2
}
