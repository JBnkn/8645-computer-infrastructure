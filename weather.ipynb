{
 "cells": [
  {
   "cell_type": "markdown",
   "metadata": {},
   "source": [
    "# Computer Infrastructure - 2024\n",
    "\n",
    "<img src=\"https://upload.wikimedia.org/wikipedia/commons/7/7b/Athenry_Castle.jpg\" alt=\"Athenry Castle\" width=\"800\"/>\n",
    "<p class=\"attribution\">\"Athenry Castle\" by <a href=\"https://commons.wikimedia.org/wiki/User:Imehling\">Ingo Mehling</a> is licensed under <a rel=\"noopener noreferrer\" href=\"https://creativecommons.org/licenses/by-sa/3.0/?ref=openverse\">CC BY-SA 3.0 <img src=\"https://mirrors.creativecommons.org/presskit/icons/cc.svg\" style=\"height: 1em; margin-right: 0.125em; display: inline;\" /><img src=\"https://mirrors.creativecommons.org/presskit/icons/by.svg\" style=\"height: 1em; margin-right: 0.125em; display: inline;\" /><img src=\"https://mirrors.creativecommons.org/presskit/icons/sa.svg\" style=\"height: 1em; margin-right: 0.125em; display: inline;\" /></a>.</p>\n",
    "\n",
    "This notebook will provide a summary of how I completed the tasks for the [Computer Infrastructure](https://www.gmit.ie/computer-infrastructure) module as part of the [Higher Diploma in Science in Data Analytics](https://www.gmit.ie/higher-diploma-in-science-in-computing-in-data-analytics) at ATU."
   ]
  },
  {
   "cell_type": "markdown",
   "metadata": {},
   "source": [
    "### Task 1 - Create Directory Structure\n",
    "> *Using the command line, create a directory named <code>data</code> at the root of your respository. Inside <code>data</code>, create two subdirectories: <code>timestamps</code> and <code>weather</code>.*\n",
    "\n",
    "For this task, I opened a Codespace through my GitHub repository. Once the codespace was live, I used <code>mkdir</code>  to create a folder named <code>data</code>. I then used <code>ls</code> to confirm that the folder had been created.\n",
    "\n",
    "I used <code>cd data</code> to navigate into the <code>data</code> folder, where again I used <code>mkdir</code> to create two further directories called <code>timestamps</code> and <code>weather</code>.\n",
    "\n",
    "I navigated back to my root folder using <code>cd ..</code> (as <code>..</code> is used to indicate the parent folder of the current directory)."
   ]
  },
  {
   "cell_type": "markdown",
   "metadata": {},
   "source": [
    "### Task 2 - Timestamps\n",
    "> *Navigate to the <code>data/timestamps</code> directory. Use the <code>date</code> command to output the current date and time, appending the output to a file named <code>now.txt</code>. Make sure to use the <code>>></code> operator to append (not overwrite) the file. Repeat this step ten times, then use the <code>more</code> command to verify that <code>now.txt</code> has the expected content.*"
   ]
  },
  {
   "cell_type": "markdown",
   "metadata": {},
   "source": [
    "### Task 3 - Formatting Timestamps\n",
    "> Run the <code>date</code> command again, but this time format the output using <code>YYYYmmdd_HHMMSS</code> (e.g., <code>20261114_130003</code> for 1:00:03 PM on November 14, 2026). Refer to the <code>date</code> man page (using <code>man date</code>) for more formatting options. (Press <code>q</code> to exit the man page). Append the formatted output to a file named <code>formatted.txt</code>."
   ]
  },
  {
   "cell_type": "markdown",
   "metadata": {},
   "source": [
    "### Task 4 - Create Timestamped Files\n",
    "> Use the <code>touch</code> command to create an empty file with a name in the <code>YYYYmmdd_HHMMSS.txt</code> format. You can achieve this by embedding your <code>date</code> command in backticks <code>`</code> into the touch command. You should no longer use redirection (<code>>></code>) in this step."
   ]
  },
  {
   "cell_type": "markdown",
   "metadata": {},
   "source": [
    "### Task 5 - Download Today's Weather Data\n",
    "> Change to the <code>data/weather</code> directory. Download the latest weather data for the Athenry weather station from Met Eireann using <code>wget</code>. Use the <code>-O <filename></code> option to save the file as <code>weather.json</code>. The data can be found at this URL:\n",
    "<code>https://prodapi.metweb.ie/observations/athenry/today</code>."
   ]
  },
  {
   "cell_type": "markdown",
   "metadata": {},
   "source": [
    "### Task 6 - Timestamp the Data\n",
    "> Modify the command from Task 5 to save the downloaded file with a timestamped name in the format <code>YYYYmmdd_HHMMSS</code>.json."
   ]
  },
  {
   "cell_type": "markdown",
   "metadata": {},
   "source": [
    "### Task 7 - Write the Script\n",
    "> Write a bash script called <code>weather.sh</code> in the root of your repository. This script should automate the process from Task 6, saving the weather data to the <code>data/weather</code> directory. Make the script executable and test it by running it."
   ]
  },
  {
   "cell_type": "markdown",
   "metadata": {},
   "source": [
    "### Task 8 - Notebook\n",
    "> Create a notebook called <code>weather.ipynb</code> at the root of your repository. In this notebook, write a brief report explaining how you completed Tasks 1 to 7. Provide short descriptions of the commands used in each task and explain their role in completing the tasks."
   ]
  },
  {
   "cell_type": "markdown",
   "metadata": {},
   "source": [
    "### Task 9 - pandas\n",
    "> In your <code>weather.ipynb</code> notebook, use the <code>pandas</code> function <code>read_json()</code> to load in any one of the weather data files you have downloaded with your script. Examine and summarize the data. Use the information provided [data.gov.ie](https://data.gov.ie/) to write a short explanation of what the data set contains."
   ]
  }
 ],
 "metadata": {
  "language_info": {
   "name": "python"
  }
 },
 "nbformat": 4,
 "nbformat_minor": 2
}
